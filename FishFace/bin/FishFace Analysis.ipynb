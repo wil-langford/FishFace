{
 "metadata": {
  "name": "FishFace Analysis"
 },
 "nbformat": 3,
 "nbformat_minor": 0,
 "worksheets": [
  {
   "cells": [
    {
     "cell_type": "heading",
     "level": 1,
     "metadata": {},
     "source": [
      "FishFace Analysis"
     ]
    },
    {
     "cell_type": "markdown",
     "metadata": {},
     "source": [
      "This notebook is used to analyze data captured with the FishFace Capture notebook.  The settings are stored in the first cell, and the second cell actually performs the analysis."
     ]
    },
    {
     "cell_type": "code",
     "collapsed": false,
     "input": [
      "%run ipyinit.py\n",
      "\n",
      "THRESHOLD = 30\n",
      "\n",
      "######### The following can probably be left alone. #########\n",
      "\n",
      "# Prefixes for naming the files.\n",
      "OUTPUT_FILENAME_PREFIX = 'analysis'\n",
      "CAL_IMAGE_PREFIX = 'CAL'\n",
      "DATA_IMAGE_PREFIX = 'DATA'\n",
      "DATA_DIR = os.path.join('.','data')\n",
      "#DATA_DIR = os.path.join('.','ephemera')\n",
      "ips.msg(\"Settings processed.\", ips.FINAL)\n",
      "ips.listExperimentDirs(DATA_DIR)"
     ],
     "language": "python",
     "metadata": {},
     "outputs": [
      {
       "output_type": "stream",
       "stream": "stdout",
       "text": [
        "[INFO] Starting initial environment setup.\n",
        "[INFO] Imported FishFace Libraries.\n",
        "[\u001b[32mOK\u001b[0m] Initial environment setup complete.\n",
        "[\u001b[32mOK\u001b[0m] Settings processed.\n",
        "**************************************************\n",
        "Please select an experiment to analyze by number from the list below.\n",
        "0: ./data/Darkfish Test-2013-08-08-1338\n",
        "1: ./data/Software Test-2013-08-08-1359\n",
        "2: ./data/Software Test-2013-08-08-1400\n",
        "3: ./data/My Experiment-2013-08-23-1345\n",
        "4: ./data/My Experiment-2013-08-23-1346\n",
        "5: ./data/DevTest-2013-08-23-1346\n",
        "6: ./data/DevTest-2013-08-23-1348\n",
        "7: ./data/small-test\n",
        "8: ./data/Darkfish Test-2013-08-08-1306\n"
       ]
      }
     ],
     "prompt_number": 4
    },
    {
     "cell_type": "markdown",
     "metadata": {},
     "source": [
      "From the list above, decide which experiment you want to analyze, and set the SELECT_EXPERIMENT variable below to the number of the experiment that you have selected.\n",
      "\n",
      "You can define a polygon of interest (POI) to help filter data points by the location of the fish in the image.  There are three modes you can use for the definition of POI below:\n",
      "\n",
      "* **If POI = 0**, then no POI will be defined.\n",
      "* **If POI is a list containing two points**, then a rectangle will be used with sides parallel to the image edges and antipodal corners given by the two points.\n",
      " * Example: <code>POI = [ [ 100, 100 ] , [ 400, 600 ] ]</code> would be an image-edge-aligned rectangle with corners at (100,100) and (400,600).)\n",
      "* **If POI is a list containing three or more points**, then they are interpreted as the ordered vertex points of a polygon.\n",
      " * Example: <code>POI = [ [ 100, 100 ] , [ 100, 600 ], [ 400, 600 ], [400, 100] ]</code> would produce the same rectangle as the examples POI example above.\n",
      " * Example: <code>POI = [ [ 100, 100 ] , [ 100, 600 ], [ 400, 600 ], [400, 100], [ 200, 250 ] ]</code> would produce an irregular, non-convex pentagon that shared four vertices with the rectangular examples above.\n",
      "\n",
      "If you define a nonzero POI, then the polygon will be rendered on the detected calibration image so you can verify that it looks ok."
     ]
    },
    {
     "cell_type": "code",
     "collapsed": false,
     "input": [
      "SELECT_EXPERIMENT = 1\n",
      "POI = [ [ 400,  250],\n",
      "        [1750,  350],\n",
      "        [1650, 1300],\n",
      "        [ 350, 1250]\n",
      "      ]\n",
      "\n",
      "#POI = 0\n",
      "\n",
      "poiRenderFile, POI_CONTOURS = ips.renderPOI(expDirIdx=SELECT_EXPERIMENT,calPrefix=CAL_IMAGE_PREFIX, POI=POI)\n",
      "ipd.Image(filename = poiRenderFile)"
     ],
     "language": "python",
     "metadata": {},
     "outputs": []
    },
    {
     "cell_type": "markdown",
     "metadata": {},
     "source": [
      "If you're not using a POI or you're happy with the one rendered above, then continue.  If you want to adjust the POI, make the adjustment and execute the cell above again.\n",
      "\n",
      "Execute the cell below to perform the actual analysis."
     ]
    },
    {
     "cell_type": "code",
     "collapsed": false,
     "input": [
      "ips.analyzeExperiment(expDirIdx=SELECT_EXPERIMENT,\n",
      "                      calPrefix=CAL_IMAGE_PREFIX,\n",
      "                      dataPrefix=DATA_IMAGE_PREFIX,\n",
      "                      threshold=THRESHOLD,\n",
      "                      outFilenamePrefix=OUTPUT_FILENAME_PREFIX,\n",
      "                      poiContours=POI_CONTOURS\n",
      "                     )"
     ],
     "language": "python",
     "metadata": {},
     "outputs": []
    },
    {
     "cell_type": "markdown",
     "metadata": {},
     "source": [
      "You're done when you see a message saying \"Data analysis complete.\"  Check the output file for the results."
     ]
    }
   ],
   "metadata": {}
  }
 ]
}