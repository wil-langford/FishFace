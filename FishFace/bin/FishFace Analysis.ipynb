{
 "metadata": {
  "name": "FishFace Analysis"
 },
 "nbformat": 3,
 "nbformat_minor": 0,
 "worksheets": [
  {
   "cells": [
    {
     "cell_type": "heading",
     "level": 1,
     "metadata": {},
     "source": [
      "FishFace Analysis"
     ]
    },
    {
     "cell_type": "markdown",
     "metadata": {},
     "source": [
      "This notebook is used to analyze data captured with the FishFace Capture notebook.  The settings are stored in the first cell, and the second cell actually performs the analysis."
     ]
    },
    {
     "cell_type": "code",
     "collapsed": false,
     "input": [
      "%run ipyinit.py\n",
      "\n",
      "THRESHOLD = 30\n",
      "OUTPUT_FILENAME = 'analysis.csv'\n",
      "\n",
      "######### The following can probably be left alone. #########\n",
      "\n",
      "# Prefixes for naming the files.\n",
      "CAL_IMAGE_PREFIX = 'CAL'\n",
      "DATA_IMAGE_PREFIX = 'DATA'\n",
      "DATA_DIR = os.path.join('.','data')\n",
      "ips.msg(\"Settings processed.\", ips.FINAL)\n",
      "ips.listExperimentDirs(DATA_DIR)"
     ],
     "language": "python",
     "metadata": {},
     "outputs": [
      {
       "output_type": "stream",
       "stream": "stdout",
       "text": [
        "[INFO] Starting initial environment setup.\n",
        "[INFO] Imported FishFace Libraries.\n",
        "[\u001b[32mOK\u001b[0m] Initial environment setup complete.\n",
        "[\u001b[32mOK\u001b[0m] Settings processed.\n",
        "**************************************************\n",
        "Please select an experiment to analyze by number from the list below.\n",
        "0: ./data/Darkfish Test-2013-08-08-1338\n",
        "1: ./data/Software Test-2013-08-08-1359\n",
        "2: ./data/Software Test-2013-08-08-1400\n",
        "3: ./data/temp\n",
        "4: ./data/My Experiment-2013-08-23-1345\n",
        "5: ./data/My Experiment-2013-08-23-1346\n",
        "6: ./data/DevTest-2013-08-23-1346\n",
        "7: ./data/DevTest-2013-08-23-1348\n",
        "8: ./data/Darkfish Test-2013-08-08-1306\n"
       ]
      }
     ],
     "prompt_number": 1
    },
    {
     "cell_type": "markdown",
     "metadata": {},
     "source": [
      "From the list above, decide which experiment you want to analyze, and set the SELECT_EXPERIMENT variable below to the number of the experiment that you have selected.  Then execute the cell below to perform the analysis."
     ]
    },
    {
     "cell_type": "code",
     "collapsed": false,
     "input": [
      "SELECT_EXPERIMENT = 3\n",
      "\n",
      "ips.analyzeExperiment(expDirIdx=SELECT_EXPERIMENT,\n",
      "                      calPrefix=CAL_IMAGE_PREFIX,\n",
      "                      dataPrefix=DATA_IMAGE_PREFIX,\n",
      "                      threshold=THRESHOLD,\n",
      "                      outFilename=OUTPUT_FILENAME\n",
      "                     )"
     ],
     "language": "python",
     "metadata": {},
     "outputs": [
      {
       "output_type": "stream",
       "stream": "stdout",
       "text": [
        "./data/temp\n",
        "[INFO] Using discovered calibration file: ./data/temp/CAL-2013-08-08-133918-5.70V.jpg"
       ]
      },
      {
       "output_type": "stream",
       "stream": "stdout",
       "text": [
        "\n",
        "[INFO] Indexing data files.\n",
        "[INFO] Found 9 data files to process.\n",
        "[INFO] Building hopper chain.\n",
        "[INFO] Starting hopper chain.\n",
        "[INFO] One dot will print per image processed. (10 dots per group, 10 groups per line.)\n",
        "."
       ]
      },
      {
       "output_type": "stream",
       "stream": "stdout",
       "text": [
        ".."
       ]
      },
      {
       "output_type": "stream",
       "stream": "stdout",
       "text": [
        ".."
       ]
      },
      {
       "output_type": "stream",
       "stream": "stdout",
       "text": [
        ".."
       ]
      },
      {
       "output_type": "stream",
       "stream": "stdout",
       "text": [
        ".\n",
        "[\u001b[32mOK\u001b[0m] Data analysis complete.\n",
        "[INFO] Processing took 35.3135490417 total seconds (4.41419363022 seconds per image.)\n",
        "[INFO] Results have been written to the output file: analysis.csv\n"
       ]
      }
     ],
     "prompt_number": 2
    },
    {
     "cell_type": "markdown",
     "metadata": {},
     "source": [
      "You're done when you see a message saying \"Data analysis complete.\"  Check the output file for the results."
     ]
    }
   ],
   "metadata": {}
  }
 ]
}