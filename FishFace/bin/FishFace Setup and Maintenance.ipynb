{
 "metadata": {
  "name": "FishFace Setup and Maintenance"
 },
 "nbformat": 3,
 "nbformat_minor": 0,
 "worksheets": [
  {
   "cells": [
    {
     "cell_type": "heading",
     "level": 1,
     "metadata": {},
     "source": [
      "FishFace Setup and Maintenance"
     ]
    },
    {
     "cell_type": "markdown",
     "metadata": {},
     "source": [
      "This iPython notebook will assist you in getting FishFace set up and tested for use."
     ]
    },
    {
     "cell_type": "heading",
     "level": 2,
     "metadata": {},
     "source": [
      "Initial Setup"
     ]
    },
    {
     "cell_type": "heading",
     "level": 3,
     "metadata": {},
     "source": [
      "Verify that all prerequisites are met"
     ]
    },
    {
     "cell_type": "code",
     "collapsed": false,
     "input": [
      "BAD = False\n",
      "IFFY = False\n",
      "\n",
      "print \"Running Tests...\"\n",
      "\n",
      "try:\n",
      "    import cv2\n",
      "except:\n",
      "    print \"[\\x1b[31mERROR\\x1b[0m] You will need OpenCV installed to use FishFace.\"\n",
      "    BAD = True\n",
      "    \n",
      "if not BAD:\n",
      "    if cv2.__version__ != \"2.9.0\":\n",
      "        print(\"[\\x1b[31mWARNING\\x1b[0m] FishFace was written using OpenCV 2.9.0.  If you have an newer version, then this is probably ok.  Older versions may not work.\")\n",
      "        IFFY = True\n",
      "\n",
      "if BAD:\n",
      "    print(\"[\\x1b[31mERROR\\x1b[0m] There were some problems with FishFace's prerequisites.\")\n",
      "    \n",
      "if IFFY:\n",
      "    print(\"[\\x1b[31mWARNING\\x1b[0m] There may be some problems with FishFace's prerequisites.\")\n",
      "    \n",
      "if not BAD and not IFFY:\n",
      "    print (\"[\\x1b[32mOK\\x1b[0m] There were no problems detected with FishFace's prerequisites.\")\n"
     ],
     "language": "python",
     "metadata": {},
     "outputs": [
      {
       "output_type": "stream",
       "stream": "stdout",
       "text": [
        "Running Tests...\n",
        "[\u001b[32mOK\u001b[0m] There were no problems detected with FishFace's prerequisites.\n"
       ]
      }
     ],
     "prompt_number": 24
    },
    {
     "cell_type": "heading",
     "level": 3,
     "metadata": {},
     "source": [
      "Download or update the latest copy of FishFace"
     ]
    },
    {
     "cell_type": "code",
     "collapsed": false,
     "input": [],
     "language": "python",
     "metadata": {},
     "outputs": []
    }
   ],
   "metadata": {}
  }
 ]
}