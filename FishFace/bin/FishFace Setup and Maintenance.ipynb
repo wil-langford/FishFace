{
 "metadata": {
  "name": "FishFace Setup and Maintenance"
 },
 "nbformat": 3,
 "nbformat_minor": 0,
 "worksheets": [
  {
   "cells": [
    {
     "cell_type": "heading",
     "level": 1,
     "metadata": {},
     "source": [
      "FishFace Setup and Maintenance"
     ]
    },
    {
     "cell_type": "markdown",
     "metadata": {},
     "source": [
      "This iPython notebook will assist you in getting FishFace set up and tested for use.  It is a *live* document, in that the shaded cells are actual Python code that you can run.\n",
      "\n",
      "To execute each cell, use Shift-Enter (or, with the cursor in the cell, hit the Play button in the toolbar above.)  Try it below in the cell with \"2 + 2\".  If you get the answer 4, then it's working:"
     ]
    },
    {
     "cell_type": "code",
     "collapsed": false,
     "input": [
      "2 + 2"
     ],
     "language": "python",
     "metadata": {},
     "outputs": [
      {
       "output_type": "pyout",
       "prompt_number": 26,
       "text": [
        "4"
       ]
      }
     ],
     "prompt_number": 26
    },
    {
     "cell_type": "heading",
     "level": 2,
     "metadata": {},
     "source": [
      "Initial Setup"
     ]
    },
    {
     "cell_type": "heading",
     "level": 3,
     "metadata": {},
     "source": [
      "Verify that all prerequisites are met"
     ]
    },
    {
     "cell_type": "code",
     "collapsed": false,
     "input": [
      "%reset\n",
      "print \"Running prerequisite tests...\"\n",
      "\n",
      "try:\n",
      "    import ipythonsupport\n",
      "    reload(ipythonsupport)\n",
      "    ips = ipythonsupport.FFiPySupport()\n",
      "except:\n",
      "    print \"Can't import iPython support functions. Please reinstall FishFace.\"\n",
      "\n",
      "try:\n",
      "    import cv2\n",
      "except:\n",
      "    ips.msg(\"You will need OpenCV installed to use FishFace.\", ips.ERR)\n",
      "\n",
      "if ips.flag != ips.ERR:\n",
      "    if cv2.__version__ != \"2.9.0\":\n",
      "        ips.msg(\"FishFace was written using OpenCV 2.9.0.  If you have an newer version, then this is probably ok.  Older versions may not work.\", ips.WARN)\n",
      "\n",
      "ips.msg(\"Prerequisite tests complete.\", ips.FINAL)"
     ],
     "language": "python",
     "metadata": {},
     "outputs": [
      {
       "output_type": "stream",
       "stream": "stdout",
       "text": [
        "Running prerequisite tests...\n",
        "[\u001b[32mOK\u001b[0m] Prerequisite tests complete.\n"
       ]
      }
     ],
     "prompt_number": 4
    },
    {
     "cell_type": "heading",
     "level": 3,
     "metadata": {},
     "source": [
      "Update to the latest version of FishFace"
     ]
    },
    {
     "cell_type": "markdown",
     "metadata": {},
     "source": [
      "Execute the following cell.  It should get the latest version.  If you want to make certain, run it twice."
     ]
    },
    {
     "cell_type": "code",
     "collapsed": false,
     "input": [
      "%sx git pull"
     ],
     "language": "python",
     "metadata": {},
     "outputs": [
      {
       "output_type": "pyout",
       "prompt_number": 32,
       "text": [
        "['Already up-to-date.']"
       ]
      }
     ],
     "prompt_number": 32
    },
    {
     "cell_type": "code",
     "collapsed": false,
     "input": [],
     "language": "python",
     "metadata": {},
     "outputs": []
    }
   ],
   "metadata": {}
  }
 ]
}